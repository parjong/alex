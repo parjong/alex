{
 "metadata": {
  "language_info": {
   "codemirror_mode": {
    "name": "ipython",
    "version": 3
   },
   "file_extension": ".py",
   "mimetype": "text/x-python",
   "name": "python",
   "nbconvert_exporter": "python",
   "pygments_lexer": "ipython3",
   "version": "3.8.5"
  },
  "orig_nbformat": 4,
  "kernelspec": {
   "name": "tensorflow-1.15.3",
   "display_name": "TensorFlow 1.15.3",
   "language": "python"
  },
  "interpreter": {
   "hash": "6c28de56ae431e679cbf9409a5ac47db22672b0026dc57f37dfba35f68d36973"
  }
 },
 "nbformat": 4,
 "nbformat_minor": 2,
 "cells": [
  {
   "cell_type": "code",
   "execution_count": 5,
   "metadata": {},
   "outputs": [],
   "source": [
    "import numpy as np\n",
    "\n",
    "import tensorflow as tf\n",
    "\n",
    "import skimage\n",
    "from skimage import data, color\n",
    "from skimage.transform import rescale, resize, downscale_local_mean\n",
    "\n",
    "import cv2\n",
    "\n",
    "import matplotlib.pyplot as plt"
   ]
  },
  {
   "cell_type": "code",
   "execution_count": 6,
   "metadata": {},
   "outputs": [
    {
     "output_type": "execute_result",
     "data": {
      "text/plain": [
       "('2.4.1', '0.18.1', '4.5.2')"
      ]
     },
     "metadata": {},
     "execution_count": 6
    }
   ],
   "source": [
    "tf.__version__, skimage.__version__, cv2.__version__"
   ]
  },
  {
   "cell_type": "code",
   "execution_count": 7,
   "metadata": {},
   "outputs": [],
   "source": [
    "H, W = 2, 2\n",
    "RESIZED_H, RESIZED_W = 4, 4"
   ]
  },
  {
   "cell_type": "code",
   "execution_count": 8,
   "metadata": {},
   "outputs": [],
   "source": [
    "# Create Input H x W x 1 image\n",
    "#IMG = np.random.rand(1, H, W, 1)\n",
    "IMG = np.array([[1.0, 2.0], [3.0, 4.0]])"
   ]
  },
  {
   "cell_type": "code",
   "execution_count": 9,
   "metadata": {},
   "outputs": [],
   "source": [
    "# TensorFlow Data\n",
    "TF = [None, None]\n",
    "\n",
    "# align_corners=False\n",
    "TF[0] = tf.compat.v1.image.resize_bilinear(\n",
    "    IMG.reshape(1, H, W, 1),\n",
    "    (RESIZED_H, RESIZED_W), \n",
    "    align_corners=False,\n",
    ").numpy().reshape(RESIZED_H, RESIZED_W)\n",
    "\n",
    "# align_corners=True\n",
    "TF[1] = tf.compat.v1.image.resize_bilinear(\n",
    "    IMG.reshape(1, H, W, 1),\n",
    "    (RESIZED_H, RESIZED_W), \n",
    "    align_corners=True,\n",
    ").numpy().reshape(RESIZED_H, RESIZED_W)\n",
    "\n",
    "# Scikit Image\n",
    "# https://scikit-image.org/docs/dev/auto_examples/transform/plot_rescale.html\n",
    "SKI = resize(IMG, (RESIZED_H, RESIZED_W))\n",
    "\n",
    "# Open CV\n",
    "CV2 = cv2.resize(IMG.reshape(H, W), dsize=(RESIZED_H, RESIZED_W), interpolation=cv2.INTER_LINEAR)"
   ]
  },
  {
   "cell_type": "code",
   "execution_count": 10,
   "metadata": {},
   "outputs": [
    {
     "output_type": "execute_result",
     "data": {
      "text/plain": [
       "array([[1. , 1.5, 2. , 2. ],\n",
       "       [2. , 2.5, 3. , 3. ],\n",
       "       [3. , 3.5, 4. , 4. ],\n",
       "       [3. , 3.5, 4. , 4. ]], dtype=float32)"
      ]
     },
     "metadata": {},
     "execution_count": 10
    }
   ],
   "source": [
    "TF[0]"
   ]
  },
  {
   "cell_type": "code",
   "execution_count": 11,
   "metadata": {},
   "outputs": [
    {
     "output_type": "execute_result",
     "data": {
      "text/plain": [
       "array([[1.       , 1.3333334, 1.6666667, 2.       ],\n",
       "       [1.6666667, 2.       , 2.3333335, 2.6666667],\n",
       "       [2.3333335, 2.6666665, 3.       , 3.3333335],\n",
       "       [3.       , 3.3333333, 3.6666667, 4.       ]], dtype=float32)"
      ]
     },
     "metadata": {},
     "execution_count": 11
    }
   ],
   "source": [
    "TF[1]"
   ]
  },
  {
   "cell_type": "code",
   "execution_count": 12,
   "metadata": {},
   "outputs": [
    {
     "output_type": "execute_result",
     "data": {
      "text/plain": [
       "array([[1.  , 1.25, 1.75, 2.  ],\n",
       "       [1.5 , 1.75, 2.25, 2.5 ],\n",
       "       [2.5 , 2.75, 3.25, 3.5 ],\n",
       "       [3.  , 3.25, 3.75, 4.  ]])"
      ]
     },
     "metadata": {},
     "execution_count": 12
    }
   ],
   "source": [
    "CV2"
   ]
  },
  {
   "cell_type": "code",
   "execution_count": 13,
   "metadata": {},
   "outputs": [
    {
     "output_type": "execute_result",
     "data": {
      "text/plain": [
       "array([[1.75, 1.75, 2.25, 2.25],\n",
       "       [1.75, 1.75, 2.25, 2.25],\n",
       "       [2.75, 2.75, 3.25, 3.25],\n",
       "       [2.75, 2.75, 3.25, 3.25]])"
      ]
     },
     "metadata": {},
     "execution_count": 13
    }
   ],
   "source": [
    "SKI"
   ]
  }
 ]
}