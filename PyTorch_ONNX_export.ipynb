{
 "metadata": {
  "language_info": {
   "codemirror_mode": {
    "name": "ipython",
    "version": 3
   },
   "file_extension": ".py",
   "mimetype": "text/x-python",
   "name": "python",
   "nbconvert_exporter": "python",
   "pygments_lexer": "ipython3",
   "version": "3.8.5"
  },
  "orig_nbformat": 2,
  "kernelspec": {
   "name": "python3",
   "display_name": "Python 3.8.5 64-bit ('python3': venv)",
   "metadata": {
    "interpreter": {
     "hash": "6c28de56ae431e679cbf9409a5ac47db22672b0026dc57f37dfba35f68d36973"
    }
   }
  }
 },
 "nbformat": 4,
 "nbformat_minor": 2,
 "cells": [
  {
   "source": [
    "## Goal\n",
    "\n",
    "Let's follow the steps in https://pytorch.org/tutorials/advanced/super_resolution_with_onnxruntime.html and see what happens!\n",
    "\n",
    "## Prerequsite\n",
    "\n",
    "Install pytorch 1.8.1 as https://pytorch.org/ guides\n",
    "```\n",
    "pip3 install torch==1.8.1+cpu torchvision==0.9.1+cpu torchaudio==0.8.1 -f https://download.pytorch.org/whl/torch_stable.html\n",
    "```\n",
    "\n",
    "Install onnx and onnxruntime\n",
    "```\n",
    "pip install onnx==1.9.0 onnxruntime==1.7.0\n",
    "```\n"
   ],
   "cell_type": "code",
   "metadata": {},
   "execution_count": null,
   "outputs": []
  },
  {
   "cell_type": "code",
   "execution_count": 2,
   "metadata": {},
   "outputs": [],
   "source": [
    "# Some standard imports\n",
    "import io\n",
    "import numpy as np"
   ]
  },
  {
   "cell_type": "code",
   "execution_count": 3,
   "metadata": {},
   "outputs": [],
   "source": [
    "# Some torch imports\n",
    "from torch import nn\n",
    "import torch.utils.model_zoo as model_zoo\n",
    "import torch.onnx\n",
    "import torch.nn as nn\n",
    "import torch.nn.init as init"
   ]
  },
  {
   "cell_type": "code",
   "execution_count": 4,
   "metadata": {},
   "outputs": [],
   "source": [
    "# Super Resolution model definition in PyTorch\n",
    "\n",
    "class SuperResolutionNet(nn.Module):\n",
    "    def __init__(self, upscale_factor, inplace=False):\n",
    "        super(SuperResolutionNet, self).__init__()\n",
    "\n",
    "        self.relu = nn.ReLU(inplace=inplace)\n",
    "        self.conv1 = nn.Conv2d(1, 64, (5, 5), (1, 1), (2, 2))\n",
    "        self.conv2 = nn.Conv2d(64, 64, (3, 3), (1, 1), (1, 1))\n",
    "        self.conv3 = nn.Conv2d(64, 32, (3, 3), (1, 1), (1, 1))\n",
    "        self.conv4 = nn.Conv2d(32, upscale_factor ** 2, (3, 3), (1, 1), (1, 1))\n",
    "        self.pixel_shuffle = nn.PixelShuffle(upscale_factor)\n",
    "\n",
    "        self._initialize_weights()\n",
    "\n",
    "    def forward(self, x):\n",
    "        x = self.relu(self.conv1(x))\n",
    "        x = self.relu(self.conv2(x))\n",
    "        x = self.relu(self.conv3(x))\n",
    "        x = self.pixel_shuffle(self.conv4(x))\n",
    "        return x\n",
    "\n",
    "    def _initialize_weights(self):\n",
    "        init.orthogonal_(self.conv1.weight, init.calculate_gain('relu'))\n",
    "        init.orthogonal_(self.conv2.weight, init.calculate_gain('relu'))\n",
    "        init.orthogonal_(self.conv3.weight, init.calculate_gain('relu'))\n",
    "        init.orthogonal_(self.conv4.weight)\n",
    "\n",
    "# Create the super-resolution model by using the above model definition.\n",
    "torch_model = SuperResolutionNet(upscale_factor=3)"
   ]
  },
  {
   "cell_type": "code",
   "execution_count": 5,
   "metadata": {},
   "outputs": [
    {
     "output_type": "execute_result",
     "data": {
      "text/plain": [
       "SuperResolutionNet(\n",
       "  (relu): ReLU()\n",
       "  (conv1): Conv2d(1, 64, kernel_size=(5, 5), stride=(1, 1), padding=(2, 2))\n",
       "  (conv2): Conv2d(64, 64, kernel_size=(3, 3), stride=(1, 1), padding=(1, 1))\n",
       "  (conv3): Conv2d(64, 32, kernel_size=(3, 3), stride=(1, 1), padding=(1, 1))\n",
       "  (conv4): Conv2d(32, 9, kernel_size=(3, 3), stride=(1, 1), padding=(1, 1))\n",
       "  (pixel_shuffle): PixelShuffle(upscale_factor=3)\n",
       ")"
      ]
     },
     "metadata": {},
     "execution_count": 5
    }
   ],
   "source": [
    "# set the model to inference mode\n",
    "torch_model.eval()"
   ]
  },
  {
   "cell_type": "code",
   "execution_count": 10,
   "metadata": {},
   "outputs": [],
   "source": [
    "batch_size = 1    # just a random number\n",
    "\n",
    "# Input to the model\n",
    "x = torch.randn(batch_size, 1, 224, 224, requires_grad=True)\n",
    "torch_out = torch_model(x)"
   ]
  },
  {
   "cell_type": "code",
   "execution_count": 17,
   "metadata": {},
   "outputs": [
    {
     "output_type": "stream",
     "name": "stdout",
     "text": [
      "graph(%input : Float(*, 1, 224, 224, strides=[50176, 50176, 224, 1], requires_grad=1, device=cpu),\n      %conv1.weight : Float(64, 1, 5, 5, strides=[25, 25, 5, 1], requires_grad=1, device=cpu),\n      %conv1.bias : Float(64, strides=[1], requires_grad=1, device=cpu),\n      %conv2.weight : Float(64, 64, 3, 3, strides=[576, 9, 3, 1], requires_grad=1, device=cpu),\n      %conv2.bias : Float(64, strides=[1], requires_grad=1, device=cpu),\n      %conv3.weight : Float(32, 64, 3, 3, strides=[576, 9, 3, 1], requires_grad=1, device=cpu),\n      %conv3.bias : Float(32, strides=[1], requires_grad=1, device=cpu),\n      %conv4.weight : Float(9, 32, 3, 3, strides=[288, 9, 3, 1], requires_grad=1, device=cpu),\n      %conv4.bias : Float(9, strides=[1], requires_grad=1, device=cpu)):\n  %9 : Float(*, 64, 224, 224, strides=[3211264, 50176, 224, 1], requires_grad=1, device=cpu) = onnx::Conv[dilations=[1, 1], group=1, kernel_shape=[5, 5], pads=[2, 2, 2, 2], strides=[1, 1]](%input, %conv1.weight, %conv1.bias) # /home/parjong/opt/python3/lib/python3.8/site-packages/torch/nn/modules/conv.py:395:0\n  %10 : Float(*, 64, 224, 224, strides=[3211264, 50176, 224, 1], requires_grad=1, device=cpu) = onnx::Relu(%9) # /home/parjong/opt/python3/lib/python3.8/site-packages/torch/nn/functional.py:1206:0\n  %11 : Float(*, 64, 224, 224, strides=[3211264, 50176, 224, 1], requires_grad=1, device=cpu) = onnx::Conv[dilations=[1, 1], group=1, kernel_shape=[3, 3], pads=[1, 1, 1, 1], strides=[1, 1]](%10, %conv2.weight, %conv2.bias) # /home/parjong/opt/python3/lib/python3.8/site-packages/torch/nn/modules/conv.py:395:0\n  %12 : Float(*, 64, 224, 224, strides=[3211264, 50176, 224, 1], requires_grad=1, device=cpu) = onnx::Relu(%11) # /home/parjong/opt/python3/lib/python3.8/site-packages/torch/nn/functional.py:1206:0\n  %13 : Float(*, 32, 224, 224, strides=[1605632, 50176, 224, 1], requires_grad=1, device=cpu) = onnx::Conv[dilations=[1, 1], group=1, kernel_shape=[3, 3], pads=[1, 1, 1, 1], strides=[1, 1]](%12, %conv3.weight, %conv3.bias) # /home/parjong/opt/python3/lib/python3.8/site-packages/torch/nn/modules/conv.py:395:0\n  %14 : Float(*, 32, 224, 224, strides=[1605632, 50176, 224, 1], requires_grad=1, device=cpu) = onnx::Relu(%13) # /home/parjong/opt/python3/lib/python3.8/site-packages/torch/nn/functional.py:1206:0\n  %15 : Float(*, 9, 224, 224, strides=[451584, 50176, 224, 1], requires_grad=1, device=cpu) = onnx::Conv[dilations=[1, 1], group=1, kernel_shape=[3, 3], pads=[1, 1, 1, 1], strides=[1, 1]](%14, %conv4.weight, %conv4.bias) # /home/parjong/opt/python3/lib/python3.8/site-packages/torch/nn/modules/conv.py:395:0\n  %16 : Long(6, strides=[1], device=cpu) = onnx::Constant[value=  -1    1    3    3  224  224 [ CPULongType{6} ]]()\n  %17 : Float(*, 1, 3, 3, 224, 224, device=cpu) = onnx::Reshape(%15, %16)\n  %18 : Float(*, 1, 224, 3, 224, 3, device=cpu) = onnx::Transpose[perm=[0, 1, 4, 2, 5, 3]](%17)\n  %19 : Long(4, strides=[1], device=cpu) = onnx::Constant[value=  -1    1  672  672 [ CPULongType{4} ]]()\n  %output : Float(*, 1, 672, 672, strides=[451584, 451584, 672, 1], requires_grad=1, device=cpu) = onnx::Reshape(%18, %19) # /home/parjong/opt/python3/lib/python3.8/site-packages/torch/nn/modules/pixelshuffle.py:53:0\n  return (%output)\n\n"
     ]
    }
   ],
   "source": [
    "# Export the model\n",
    "# \n",
    "# https://pytorch.org/docs/stable/onnx.html#tracing-vs-scripting refers to this API as 'trace' API\n",
    "torch.onnx.export(torch_model,               # model being run\n",
    "                  x,                         # model input (or a tuple for multiple inputs)\n",
    "                  \"super_resolution.A.onnx\",   # where to save the model (can be a file or file-like object)\n",
    "                  export_params=True,        # store the trained parameter weights inside the model file\n",
    "                  opset_version=10,          # the ONNX version to export the model to\n",
    "                  do_constant_folding=True,  # whether to execute constant folding for optimization\n",
    "                  verbose=True,\n",
    "                  input_names = ['input'],   # the model's input names\n",
    "                  output_names = ['output'], # the model's output names\n",
    "                  dynamic_axes={'input' : {0 : 'batch_size'},    # variable length axes\n",
    "                                'output' : {0 : 'batch_size'}})"
   ]
  },
  {
   "cell_type": "code",
   "execution_count": 16,
   "metadata": {},
   "outputs": [
    {
     "output_type": "stream",
     "name": "stdout",
     "text": [
      "graph(%input.1 : Float(1, 1, 224, 224, strides=[50176, 50176, 224, 1], requires_grad=1, device=cpu),\n      %conv1.weight : Float(64, 1, 5, 5, strides=[25, 25, 5, 1], requires_grad=1, device=cpu),\n      %conv1.bias : Float(64, strides=[1], requires_grad=1, device=cpu),\n      %conv2.weight : Float(64, 64, 3, 3, strides=[576, 9, 3, 1], requires_grad=1, device=cpu),\n      %conv2.bias : Float(64, strides=[1], requires_grad=1, device=cpu),\n      %conv3.weight : Float(32, 64, 3, 3, strides=[576, 9, 3, 1], requires_grad=1, device=cpu),\n      %conv3.bias : Float(32, strides=[1], requires_grad=1, device=cpu),\n      %conv4.weight : Float(9, 32, 3, 3, strides=[288, 9, 3, 1], requires_grad=1, device=cpu),\n      %conv4.bias : Float(9, strides=[1], requires_grad=1, device=cpu)):\n  %9 : Float(1, 64, 224, 224, strides=[3211264, 50176, 224, 1], requires_grad=1, device=cpu) = onnx::Conv[dilations=[1, 1], group=1, kernel_shape=[5, 5], pads=[2, 2, 2, 2], strides=[1, 1]](%input.1, %conv1.weight, %conv1.bias) # /home/parjong/opt/python3/lib/python3.8/site-packages/torch/nn/modules/conv.py:395:0\n  %10 : Float(1, 64, 224, 224, strides=[3211264, 50176, 224, 1], requires_grad=1, device=cpu) = onnx::Relu(%9) # /home/parjong/opt/python3/lib/python3.8/site-packages/torch/nn/functional.py:1206:0\n  %11 : Float(1, 64, 224, 224, strides=[3211264, 50176, 224, 1], requires_grad=1, device=cpu) = onnx::Conv[dilations=[1, 1], group=1, kernel_shape=[3, 3], pads=[1, 1, 1, 1], strides=[1, 1]](%10, %conv2.weight, %conv2.bias) # /home/parjong/opt/python3/lib/python3.8/site-packages/torch/nn/modules/conv.py:395:0\n  %12 : Float(1, 64, 224, 224, strides=[3211264, 50176, 224, 1], requires_grad=1, device=cpu) = onnx::Relu(%11) # /home/parjong/opt/python3/lib/python3.8/site-packages/torch/nn/functional.py:1206:0\n  %13 : Float(1, 32, 224, 224, strides=[1605632, 50176, 224, 1], requires_grad=1, device=cpu) = onnx::Conv[dilations=[1, 1], group=1, kernel_shape=[3, 3], pads=[1, 1, 1, 1], strides=[1, 1]](%12, %conv3.weight, %conv3.bias) # /home/parjong/opt/python3/lib/python3.8/site-packages/torch/nn/modules/conv.py:395:0\n  %14 : Float(1, 32, 224, 224, strides=[1605632, 50176, 224, 1], requires_grad=1, device=cpu) = onnx::Relu(%13) # /home/parjong/opt/python3/lib/python3.8/site-packages/torch/nn/functional.py:1206:0\n  %15 : Float(1, 9, 224, 224, strides=[451584, 50176, 224, 1], requires_grad=1, device=cpu) = onnx::Conv[dilations=[1, 1], group=1, kernel_shape=[3, 3], pads=[1, 1, 1, 1], strides=[1, 1]](%14, %conv4.weight, %conv4.bias) # /home/parjong/opt/python3/lib/python3.8/site-packages/torch/nn/modules/conv.py:395:0\n  %16 : Long(6, strides=[1], device=cpu) = onnx::Constant[value=  -1    1    3    3  224  224 [ CPULongType{6} ]]()\n  %17 : Float(1, 1, 3, 3, 224, 224, strides=[451584, 451584, 150528, 50176, 224, 1], device=cpu) = onnx::Reshape(%15, %16)\n  %18 : Float(1, 1, 224, 3, 224, 3, strides=[451584, 451584, 2016, 672, 3, 1], device=cpu) = onnx::Transpose[perm=[0, 1, 4, 2, 5, 3]](%17)\n  %19 : Long(4, strides=[1], device=cpu) = onnx::Constant[value=  -1    1  672  672 [ CPULongType{4} ]]()\n  %20 : Float(1, 1, 672, 672, strides=[451584, 451584, 672, 1], requires_grad=1, device=cpu) = onnx::Reshape(%18, %19) # /home/parjong/opt/python3/lib/python3.8/site-packages/torch/nn/modules/pixelshuffle.py:53:0\n  return (%20)\n\n"
     ]
    }
   ],
   "source": [
    "torch.onnx.export(torch_model,               # model being run\n",
    "                  x,                         # model input (or a tuple for multiple inputs)\n",
    "                  \"super_resolution.B.onnx\",   # where to save the model (can be a file or file-like object)\n",
    "                  verbose=True)\n",
    "# Q. How to write a multi output model?"
   ]
  },
  {
   "cell_type": "code",
   "execution_count": 25,
   "metadata": {},
   "outputs": [],
   "source": [
    "# How to write a model with multiple outputs?\n",
    "class MOModel(nn.Module):\n",
    "    def __init__(self):\n",
    "        super(MOModel, self).__init__()\n",
    "\n",
    "        self.relu = nn.ReLU(inplace=False)\n",
    "\n",
    "    def forward(self, x):\n",
    "        lhs = self.relu(x)\n",
    "        rhs = self.relu(x)\n",
    "        return lhs, rhs\n",
    "\n",
    "mo_model = MOModel()"
   ]
  },
  {
   "cell_type": "code",
   "execution_count": 26,
   "metadata": {},
   "outputs": [
    {
     "output_type": "stream",
     "name": "stdout",
     "text": [
      "graph(%input : Float(1, 1, 224, 224, strides=[50176, 50176, 224, 1], requires_grad=1, device=cpu)):\n  %1 : Float(1, 1, 224, 224, strides=[50176, 50176, 224, 1], requires_grad=1, device=cpu) = onnx::Relu(%input) # /home/parjong/opt/python3/lib/python3.8/site-packages/torch/nn/functional.py:1206:0\n  %2 : Float(1, 1, 224, 224, strides=[50176, 50176, 224, 1], requires_grad=1, device=cpu) = onnx::Relu(%input) # /home/parjong/opt/python3/lib/python3.8/site-packages/torch/nn/functional.py:1206:0\n  return (%1, %2)\n\n"
     ]
    }
   ],
   "source": [
    "torch.onnx.export(mo_model, x, \"MO.B.onnx\", verbose=True)"
   ]
  }
 ]
}