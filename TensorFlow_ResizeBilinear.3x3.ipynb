{
 "metadata": {
  "language_info": {
   "codemirror_mode": {
    "name": "ipython",
    "version": 3
   },
   "file_extension": ".py",
   "mimetype": "text/x-python",
   "name": "python",
   "nbconvert_exporter": "python",
   "pygments_lexer": "ipython3",
   "version": "3.8.5"
  },
  "orig_nbformat": 4,
  "kernelspec": {
   "name": "tensorflow-1.15.3",
   "display_name": "TensorFlow 1.15.3",
   "language": "python"
  },
  "interpreter": {
   "hash": "6c28de56ae431e679cbf9409a5ac47db22672b0026dc57f37dfba35f68d36973"
  }
 },
 "nbformat": 4,
 "nbformat_minor": 2,
 "cells": [
  {
   "cell_type": "code",
   "execution_count": 15,
   "metadata": {},
   "outputs": [],
   "source": [
    "import numpy as np\n",
    "\n",
    "import tensorflow as tf\n",
    "\n",
    "import skimage\n",
    "from skimage import data, color\n",
    "from skimage.transform import rescale, resize, downscale_local_mean\n",
    "\n",
    "import cv2\n",
    "\n",
    "import matplotlib.pyplot as plt"
   ]
  },
  {
   "cell_type": "code",
   "execution_count": 16,
   "metadata": {},
   "outputs": [
    {
     "output_type": "execute_result",
     "data": {
      "text/plain": [
       "('2.4.1', '0.18.1', '4.5.2')"
      ]
     },
     "metadata": {},
     "execution_count": 16
    }
   ],
   "source": [
    "tf.__version__, skimage.__version__, cv2.__version__"
   ]
  },
  {
   "cell_type": "code",
   "execution_count": 17,
   "metadata": {},
   "outputs": [],
   "source": [
    "H, W = 3, 3\n",
    "RESIZED_H, RESIZED_W = 2 * H, 2 * W"
   ]
  },
  {
   "cell_type": "code",
   "execution_count": 18,
   "metadata": {},
   "outputs": [
    {
     "output_type": "execute_result",
     "data": {
      "text/plain": [
       "array([[1., 2., 3.],\n",
       "       [4., 5., 6.],\n",
       "       [7., 8., 9.]])"
      ]
     },
     "metadata": {},
     "execution_count": 18
    }
   ],
   "source": [
    "# Create Input H x W x 1 image\n",
    "#IMG = np.random.rand(1, H, W, 1)\n",
    "IMG = np.arange(1.0, 1.0 + H * W).reshape(H, W)\n",
    "IMG"
   ]
  },
  {
   "cell_type": "code",
   "execution_count": 19,
   "metadata": {},
   "outputs": [
    {
     "output_type": "stream",
     "name": "stdout",
     "text": [
      "(6, 6)\n"
     ]
    },
    {
     "output_type": "execute_result",
     "data": {
      "text/plain": [
       "array([[1. , 1.5, 2. , 2.5, 3. , 3. ],\n",
       "       [2.5, 3. , 3.5, 4. , 4.5, 4.5],\n",
       "       [4. , 4.5, 5. , 5.5, 6. , 6. ],\n",
       "       [5.5, 6. , 6.5, 7. , 7.5, 7.5],\n",
       "       [7. , 7.5, 8. , 8.5, 9. , 9. ],\n",
       "       [7. , 7.5, 8. , 8.5, 9. , 9. ]], dtype=float32)"
      ]
     },
     "metadata": {},
     "execution_count": 19
    }
   ],
   "source": [
    "# tf.compat.v1.image.resize_bilinear\n",
    "#\n",
    "# align_corners=False\n",
    "TF = tf.compat.v1.image.resize_bilinear(\n",
    "    IMG.reshape(1, H, W, 1),\n",
    "    (RESIZED_H, RESIZED_W), \n",
    "    align_corners=False,\n",
    ").numpy().reshape(RESIZED_H, RESIZED_W)\n",
    "\n",
    "print(TF.shape)\n",
    "\n",
    "TF"
   ]
  },
  {
   "cell_type": "code",
   "execution_count": 20,
   "metadata": {},
   "outputs": [
    {
     "output_type": "stream",
     "name": "stdout",
     "text": [
      "(6, 6)\n"
     ]
    },
    {
     "output_type": "execute_result",
     "data": {
      "text/plain": [
       "array([[1.       , 1.4      , 1.8      , 2.2      , 2.6      , 3.       ],\n",
       "       [2.2      , 2.6      , 3.       , 3.4      , 3.8      , 4.2      ],\n",
       "       [3.4      , 3.8000002, 4.2000003, 4.6      , 5.       , 5.4      ],\n",
       "       [4.6000004, 5.       , 5.4000006, 5.8      , 6.2000003, 6.6000004],\n",
       "       [5.8      , 6.2000003, 6.6000004, 7.       , 7.4      , 7.8      ],\n",
       "       [7.       , 7.4      , 7.8      , 8.2      , 8.6      , 9.       ]],\n",
       "      dtype=float32)"
      ]
     },
     "metadata": {},
     "execution_count": 20
    }
   ],
   "source": [
    "# tf.compat.v1.image.resize_bilinear\n",
    "#\n",
    "# align_corners=True\n",
    "TF = tf.compat.v1.image.resize_bilinear(\n",
    "    IMG.reshape(1, H, W, 1),\n",
    "    (RESIZED_H, RESIZED_W), \n",
    "    align_corners=True,\n",
    ").numpy().reshape(RESIZED_H, RESIZED_W)\n",
    "\n",
    "print(TF.shape)\n",
    "\n",
    "TF"
   ]
  },
  {
   "cell_type": "code",
   "execution_count": 21,
   "metadata": {},
   "outputs": [
    {
     "output_type": "stream",
     "name": "stdout",
     "text": [
      "(6, 6)\n"
     ]
    },
    {
     "output_type": "execute_result",
     "data": {
      "text/plain": [
       "array([[1.  , 1.25, 1.75, 2.25, 2.75, 3.  ],\n",
       "       [1.75, 2.  , 2.5 , 3.  , 3.5 , 3.75],\n",
       "       [3.25, 3.5 , 4.  , 4.5 , 5.  , 5.25],\n",
       "       [4.75, 5.  , 5.5 , 6.  , 6.5 , 6.75],\n",
       "       [6.25, 6.5 , 7.  , 7.5 , 8.  , 8.25],\n",
       "       [7.  , 7.25, 7.75, 8.25, 8.75, 9.  ]])"
      ]
     },
     "metadata": {},
     "execution_count": 21
    }
   ],
   "source": [
    "# Open CV\n",
    "CV2 = cv2.resize(IMG.reshape(H, W), dsize=(RESIZED_H, RESIZED_W), interpolation=cv2.INTER_LINEAR)\n",
    "\n",
    "print(CV2.shape)\n",
    "\n",
    "CV2"
   ]
  },
  {
   "cell_type": "code",
   "execution_count": 22,
   "metadata": {},
   "outputs": [
    {
     "output_type": "stream",
     "name": "stdout",
     "text": [
      "(6, 6)\n"
     ]
    },
    {
     "output_type": "execute_result",
     "data": {
      "text/plain": [
       "array([[2. , 2. , 2.5, 3. , 3.5, 3.5],\n",
       "       [2. , 2. , 2.5, 3. , 3.5, 3.5],\n",
       "       [3.5, 3.5, 4. , 4.5, 5. , 5. ],\n",
       "       [5. , 5. , 5.5, 6. , 6.5, 6.5],\n",
       "       [6.5, 6.5, 7. , 7.5, 8. , 8. ],\n",
       "       [6.5, 6.5, 7. , 7.5, 8. , 8. ]])"
      ]
     },
     "metadata": {},
     "execution_count": 22
    }
   ],
   "source": [
    "# Scikit Image\n",
    "# https://scikit-image.org/docs/dev/auto_examples/transform/plot_rescale.html\n",
    "# https://scikit-image.org/docs/dev/api/skimage.transform.html#skimage.transform.resize\n",
    "SKI = resize(IMG, (RESIZED_H, RESIZED_W), order=1)\n",
    "\n",
    "print(SKI.shape)\n",
    "\n",
    "SKI"
   ]
  },
  {
   "cell_type": "code",
   "execution_count": null,
   "metadata": {},
   "outputs": [],
   "source": []
  }
 ]
}