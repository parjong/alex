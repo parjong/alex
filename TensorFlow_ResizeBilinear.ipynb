{
 "cells": [
  {
   "cell_type": "code",
   "execution_count": null,
   "metadata": {},
   "outputs": [],
   "source": []
  },
  {
   "cell_type": "code",
   "execution_count": 2,
   "metadata": {},
   "outputs": [],
   "source": [
    "import numpy as np\n",
    "import tensorflow as tf"
   ]
  },
  {
   "cell_type": "code",
   "execution_count": 15,
   "metadata": {},
   "outputs": [
    {
     "data": {
      "text/plain": [
       "array([[1, 2, 3]])"
      ]
     },
     "execution_count": 15,
     "metadata": {},
     "output_type": "execute_result"
    }
   ],
   "source": [
    "H = 1\n",
    "W = 3\n",
    "W_RATIO = 2\n",
    "\n",
    "X = np.arange(1, H * W + 1).reshape(H, W)\n",
    "X"
   ]
  },
  {
   "cell_type": "code",
   "execution_count": 16,
   "metadata": {},
   "outputs": [
    {
     "data": {
      "text/plain": [
       "array([1. , 1.4, 1.8, 2.2, 2.6, 3. ], dtype=float32)"
      ]
     },
     "execution_count": 16,
     "metadata": {},
     "output_type": "execute_result"
    }
   ],
   "source": [
    "Y = tf.compat.v1.image.resize_bilinear(\n",
    "  X.reshape(1, H, W, 1),\n",
    "  (1 * H, W_RATIO * W),\n",
    "  align_corners=True,\n",
    ")\n",
    "\n",
    "Y.numpy().reshape(W_RATIO * W)"
   ]
  },
  {
   "cell_type": "code",
   "execution_count": 20,
   "metadata": {},
   "outputs": [
    {
     "data": {
      "text/plain": [
       "array([0. , 0.4, 0.8, 1.2, 1.6, 2. ])"
      ]
     },
     "execution_count": 20,
     "metadata": {},
     "output_type": "execute_result"
    }
   ],
   "source": [
    "X_OFF = 2.0 / 5.0 * np.arange(0, 6)\n",
    "\n",
    "X_OFF"
   ]
  },
  {
   "cell_type": "code",
   "execution_count": 34,
   "metadata": {},
   "outputs": [
    {
     "data": {
      "text/plain": [
       "2.6"
      ]
     },
     "execution_count": 34,
     "metadata": {},
     "output_type": "execute_result"
    }
   ],
   "source": [
    "OFFSET = 1.6\n",
    "\n",
    "FLOOR_OFFSET = int(np.floor(OFFSET))\n",
    "CEIL_OFFSET = int(np.ceil(OFFSET))\n",
    "\n",
    "FLOOR_VALUE = X.reshape(-1)[FLOOR_OFFSET]\n",
    "CEIL_VALUE = X.reshape(-1)[CEIL_OFFSET]\n",
    "\n",
    "VALUE = FLOOR_VALUE * (1 - (OFFSET - FLOOR_OFFSET)) + CEIL_VALUE * (1 - (CEIL_OFFSET - OFFSET))\n",
    "VALUE\n",
    "\n",
    "# 1.0 * (1 - 0.4) + 2.0 * (1 - 0.6)"
   ]
  },
  {
   "cell_type": "code",
   "execution_count": null,
   "metadata": {},
   "outputs": [],
   "source": []
  }
 ],
 "metadata": {
  "interpreter": {
   "hash": "6c28de56ae431e679cbf9409a5ac47db22672b0026dc57f37dfba35f68d36973"
  },
  "kernelspec": {
   "display_name": "Python 3.8.5 64-bit ('python3': venv)",
   "name": "python3"
  },
  "language_info": {
   "name": "python",
   "version": ""
  },
  "orig_nbformat": 4
 },
 "nbformat": 4,
 "nbformat_minor": 2
}