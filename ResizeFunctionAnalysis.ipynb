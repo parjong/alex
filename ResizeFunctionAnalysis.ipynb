{
 "cells": [
  {
   "cell_type": "code",
   "execution_count": 2,
   "metadata": {},
   "outputs": [],
   "source": [
    "import numpy as np\n",
    "import tensorflow as tf"
   ]
  },
  {
   "cell_type": "code",
   "execution_count": 3,
   "metadata": {},
   "outputs": [
    {
     "name": "stdout",
     "output_type": "stream",
     "text": [
      "2.4.1\n"
     ]
    }
   ],
   "source": [
    "print(tf.__version__)"
   ]
  },
  {
   "cell_type": "code",
   "execution_count": 8,
   "metadata": {},
   "outputs": [
    {
     "data": {
      "text/plain": [
       "0.0"
      ]
     },
     "execution_count": 8,
     "metadata": {},
     "output_type": "execute_result"
    }
   ],
   "source": [
    "class BilinearOffsetResize:\n",
    "  def __init__(self, H=None, W=None):\n",
    "    assert H is not None\n",
    "    assert W is not None\n",
    "    self.H_RESIZE_RATIO = H\n",
    "    self.W_RESIZE_RATIO = W\n",
    "    pass\n",
    "\n",
    "  def __call__(self, ifm):\n",
    "    assert len(ifm.shape) == 4\n",
    "\n",
    "    IFM_H = ifm.shape[1]\n",
    "    IFM_W = ifm.shape[2]\n",
    "\n",
    "    OFM_H = IFM_H * self.H_RESIZE_RATIO\n",
    "    OFM_W = IFM_W * self.W_RESIZE_RATIO\n",
    "\n",
    "    return tf.compat.v1.image.resize_bilinear(ifm, (OFM_H, OFM_W))\n",
    "\n",
    "def run_offset_resize_demo():\n",
    "  # isotrpic resize\n",
    "  x2 = BilinearOffsetResize(2, 2)\n",
    "\n",
    "  # anisotrpic resize\n",
    "  x2H = BilinearOffsetResize(2, 1)\n",
    "  x2W = BilinearOffsetResize(1, 2)\n",
    "\n",
    "  # 'interval' resize test\n",
    "  ifm = np.random.rand(1, 4, 4, 3)\n",
    "\n",
    "  ofm_1 = x2(ifm)\n",
    "  ofm_2 = x2H(x2W(ifm))\n",
    "\n",
    "  return np.max(np.max(ofm_1 - ofm_2))\n",
    "\n",
    "run_offset_resize_demo()"
   ]
  },
  {
   "cell_type": "code",
   "execution_count": 7,
   "metadata": {},
   "outputs": [
    {
     "ename": "NameError",
     "evalue": "name 'run_offset_resize_demo' is not defined",
     "output_type": "error",
     "traceback": [
      "\u001b[0;31m---------------------------------------------------------------------------\u001b[0m",
      "\u001b[0;31mNameError\u001b[0m                                 Traceback (most recent call last)",
      "\u001b[0;32m<ipython-input-7-7d8ddc9a66ee>\u001b[0m in \u001b[0;36m<module>\u001b[0;34m\u001b[0m\n\u001b[1;32m     35\u001b[0m   \u001b[0;32mreturn\u001b[0m \u001b[0mnp\u001b[0m\u001b[0;34m.\u001b[0m\u001b[0mmax\u001b[0m\u001b[0;34m(\u001b[0m\u001b[0mnp\u001b[0m\u001b[0;34m.\u001b[0m\u001b[0mmax\u001b[0m\u001b[0;34m(\u001b[0m\u001b[0mx2\u001b[0m\u001b[0;34m(\u001b[0m\u001b[0mifm\u001b[0m\u001b[0;34m)\u001b[0m \u001b[0;34m-\u001b[0m \u001b[0mx2H\u001b[0m\u001b[0;34m(\u001b[0m\u001b[0mx2W\u001b[0m\u001b[0;34m(\u001b[0m\u001b[0mifm\u001b[0m\u001b[0;34m)\u001b[0m\u001b[0;34m)\u001b[0m\u001b[0;34m)\u001b[0m\u001b[0;34m)\u001b[0m\u001b[0;34m\u001b[0m\u001b[0;34m\u001b[0m\u001b[0m\n\u001b[1;32m     36\u001b[0m \u001b[0;34m\u001b[0m\u001b[0m\n\u001b[0;32m---> 37\u001b[0;31m \u001b[0mrun_offset_resize_demo\u001b[0m\u001b[0;34m(\u001b[0m\u001b[0;34m)\u001b[0m\u001b[0;34m\u001b[0m\u001b[0;34m\u001b[0m\u001b[0m\n\u001b[0m",
      "\u001b[0;31mNameError\u001b[0m: name 'run_offset_resize_demo' is not defined"
     ]
    }
   ],
   "source": [
    "class BilinearIntervalResize:\n",
    "  def __init__(self, H=None, W=None):\n",
    "    assert H is not None\n",
    "    assert W is not None\n",
    "    self.H_RESIZE_RATIO = H\n",
    "    self.W_RESIZE_RATIO = W\n",
    "    pass\n",
    "\n",
    "\n",
    "  def __call__(self, ifm):\n",
    "    assert len(ifm.shape) == 4\n",
    "\n",
    "    IFM_H = ifm.shape[1]\n",
    "    IFM_W = ifm.shape[2]\n",
    "\n",
    "    OFM_H = IFM_H * self.H_RESIZE_RATIO\n",
    "    OFM_W = IFM_W * self.W_RESIZE_RATIO\n",
    "\n",
    "    return tf.compat.v1.image.resize_bilinear(ifm, (OFM_H, OFM_W), align_corners=True)\n",
    "\n",
    "def run_interval_resize_demo():\n",
    "  # isotrpic resize\n",
    "  x2 = BilinearIntervalResize(2, 2)\n",
    "\n",
    "  # anisotrpic resize\n",
    "  x2H = BilinearIntervalResize(2, 1)\n",
    "  x2W = BilinearIntervalResize(1, 2)\n",
    "\n",
    "  # 'interval' resize test\n",
    "  ifm = np.random.rand(1, 4, 4, 3)\n",
    "\n",
    "  ofm_1 = x2(ifm)\n",
    "  ofm_2 = x2H(x2W(ifm))\n",
    "\n",
    "  return np.max(np.max(x2(ifm) - x2H(x2W(ifm))))\n",
    "\n",
    "run_interval_resize_demo()"
   ]
  }
 ],
 "metadata": {
  "interpreter": {
   "hash": "6c28de56ae431e679cbf9409a5ac47db22672b0026dc57f37dfba35f68d36973"
  },
  "kernelspec": {
   "display_name": "Python 3.8.5 64-bit ('python3': venv)",
   "name": "python3"
  },
  "language_info": {
   "codemirror_mode": {
    "name": "ipython",
    "version": 3
   },
   "file_extension": ".py",
   "mimetype": "text/x-python",
   "name": "python",
   "nbconvert_exporter": "python",
   "pygments_lexer": "ipython3",
   "version": "3.8.5"
  },
  "orig_nbformat": 4
 },
 "nbformat": 4,
 "nbformat_minor": 2
}